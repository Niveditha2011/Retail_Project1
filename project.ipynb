{
 "cells": [
  {
   "cell_type": "code",
   "execution_count": null,
   "metadata": {},
   "outputs": [],
   "source": [
    "!pip install -q kaggle"
   ]
  },
  {
   "cell_type": "code",
   "execution_count": null,
   "metadata": {},
   "outputs": [],
   "source": [
    "!kaggle datasets download ankitbansal06/retail-orders -f orders.csv"
   ]
  },
  {
   "cell_type": "code",
   "execution_count": 7,
   "metadata": {},
   "outputs": [
    {
     "name": "stdout",
     "output_type": "stream",
     "text": [
      "Unzipping complete!\n"
     ]
    }
   ],
   "source": [
    "#Data Extraction\n",
    "#unzipping the file\n",
    "import zipfile\n",
    "# Unzip using Python\n",
    "with zipfile.ZipFile(\"orders.csv.zip\", \"r\") as zip_ref:\n",
    "    zip_ref.extractall(\".\")  # Extract to the current directory\n",
    "print(\"Unzipping complete!\")"
   ]
  },
  {
   "cell_type": "code",
   "execution_count": null,
   "metadata": {},
   "outputs": [],
   "source": [
    "!pip install pandas"
   ]
  },
  {
   "cell_type": "code",
   "execution_count": null,
   "metadata": {},
   "outputs": [],
   "source": [
    "#DATA CLEANING \n",
    "#read file\n",
    "import pandas as pd\n",
    "df = pd.read_csv(\"orders.csv\",na_values=['Not Available','unknown'])   # changing null value into nan\n",
    "#df['Ship Mode'].unique()  #to find unique values in ship mode \n",
    "df.columns = df.columns.str.lower()  #changed to lower case\n",
    "df.columns = df.columns.str.replace(\" \", \"_\")  #replace space with _\n",
    "df[\"discount\"]=df[\"list_price\"] * (df[\"discount_percent\"] / 100)    # calculating discount and added discount column\n",
    "df[\"sale_price\"]=df[\"list_price\"]-df[\"discount\"]  # sell price\n",
    "df[\"profit\"]=df[\"sale_price\"]-df[\"cost_price\"]  #profit\n",
    "df.to_csv(\"orders.csv\", index=False)\n",
    "df.head(3)"
   ]
  },
  {
   "cell_type": "code",
   "execution_count": null,
   "metadata": {},
   "outputs": [],
   "source": [
    "# Splitting data frame into 2 dataframe\n",
    "df1 = df[['order_id', 'order_date', 'ship_mode','segment','country','city','state','postal_code','region','category','sub_category']]  # First half of columns\n",
    "df2 = df[['order_id','product_id','cost_price','list_price','quantity','discount_percent','discount','sale_price','profit']]\n",
    "df2.head(5)"
   ]
  },
  {
   "cell_type": "code",
   "execution_count": 30,
   "metadata": {},
   "outputs": [],
   "source": [
    "import mysql.connector\n",
    "\n",
    "connection = mysql.connector.connect(\n",
    "  host = \"gateway01.ap-southeast-1.prod.aws.tidbcloud.com\",\n",
    "  port = 4000,\n",
    "  user = \"2XWsHPpwQA4Z6ce.root\",\n",
    "  password = \"lFu7DqRUZThvq3kn\",\n",
    "  database = \"Retail_Project\",\n",
    " \n",
    ")\n",
    "mycursor=connection.cursor()"
   ]
  },
  {
   "cell_type": "code",
   "execution_count": null,
   "metadata": {},
   "outputs": [],
   "source": [
    "#creation of database\n",
    "mycursor.execute(\"create database Retail_Project\")"
   ]
  },
  {
   "cell_type": "code",
   "execution_count": null,
   "metadata": {},
   "outputs": [],
   "source": [
    "import pandas as pd\n",
    "from sqlalchemy import create_engine\n",
    "\n",
    "# 1️⃣ MySQL/TiDB Connection Details\n",
    "host = \"gateway01.ap-southeast-1.prod.aws.tidbcloud.com\",\n",
    "port = 4000,\n",
    "user = \"2XWsHPpwQA4Z6ce.root\",\n",
    "password = \"lFu7DqRUZThvq3kn\",\n",
    "database = \"Retail_Project\",\n",
    "\n",
    "# 2️⃣ Create an SQLAlchemy Engine\n",
    "engine = create_engine(f\"mysql+mysqlconnector://{\"2XWsHPpwQA4Z6ce.root\"}:{\"lFu7DqRUZThvq3kn\"}@{\"gateway01.ap-southeast-1.prod.aws.tidbcloud.com\"}/{\"Retail_Project\"}\")\n",
    "\n",
    "# 3️⃣ Read CSV into DataFrame\n",
    "df = pd.read_csv(\"orders.csv\")\n",
    "\n",
    "# 4️⃣ Move DataFrame into SQL Table\n",
    "df.to_sql(\"orders_table\", engine, if_exists=\"replace\", index=False)\n",
    "\n",
    "# AFTER SPLITING DATAFRAME MOVING INTO SQL TABLE \n",
    "df1.to_sql(\"ORDER1\", engine, if_exists=\"replace\", index=False)\n",
    "df2.to_sql(\"ORDER2\", engine, if_exists=\"replace\", index=False)"
   ]
  },
  {
   "cell_type": "code",
   "execution_count": null,
   "metadata": {},
   "outputs": [],
   "source": [
    "#Changing order id into primary key in order 1\n",
    "mycursor.execute(\"ALTER TABLE Retail_Project.ORDER1 ADD PRIMARY KEY (order_id);\")\n"
   ]
  },
  {
   "cell_type": "code",
   "execution_count": 45,
   "metadata": {},
   "outputs": [],
   "source": [
    "#Changing order id into foreign key in order 2\n",
    "mycursor.execute(\n",
    "    \"\"\"ALTER TABLE Retail_Project.ORDER2 \n",
    "    ADD CONSTRAINT fk_order_id \n",
    "    FOREIGN KEY (order_id) \n",
    "    REFERENCES Retail_Project.ORDER1(order_id)\"\"\")"
   ]
  },
  {
   "cell_type": "code",
   "execution_count": null,
   "metadata": {},
   "outputs": [],
   "source": [
    "# 18 Find the Profit percentage per Sub_Category\n",
    "mycursor.execute(\n",
    "        \"\"\"SELECT df1.sub_category,SUM(df2.profit) AS Total_Profit\n",
    "        FROM RETAIL_PROJECT.ORDER1 df1\n",
    "        JOIN RETAIL_PROJECT.ORDER2 df2 ON df1.order_id = df2.order_id   \n",
    "        GROUP BY df1.sub_category\n",
    "        ORDER BY Total_Profit DESC\n",
    "        \"\"\")\n",
    "out=mycursor.fetchall()\n",
    "from tabulate import tabulate\n",
    "print(tabulate(out,headers=[i[0] for i in mycursor.description],  tablefmt='psql'))\n"
   ]
  }
 ],
 "metadata": {
  "kernelspec": {
   "display_name": "Python 3",
   "language": "python",
   "name": "python3"
  },
  "language_info": {
   "codemirror_mode": {
    "name": "ipython",
    "version": 3
   },
   "file_extension": ".py",
   "mimetype": "text/x-python",
   "name": "python",
   "nbconvert_exporter": "python",
   "pygments_lexer": "ipython3",
   "version": "3.12.8"
  }
 },
 "nbformat": 4,
 "nbformat_minor": 2
}
